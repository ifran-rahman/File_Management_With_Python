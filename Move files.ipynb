{
 "cells": [
  {
   "cell_type": "code",
   "execution_count": 3,
   "id": "6c169373",
   "metadata": {},
   "outputs": [],
   "source": [
    "import os\n",
    "import random\n",
    "os.chdir('C:/Users/Asus/Desktop/Covid_Noncovid')\n",
    "if os.path.isdir('train/covid') is False:\n",
    "    os.makedirs('train/covid')\n",
    "    os.makedirs('train/normal')\n",
    "    os.makedirs('valid/covid')\n",
    "    os.makedirs('valid/normal')\n",
    "    os.makedirs('test/covid')\n",
    "    os.makedirs('test/normal')\n",
    "    "
   ]
  },
  {
   "cell_type": "code",
   "execution_count": 11,
   "id": "af0c0272",
   "metadata": {},
   "outputs": [],
   "source": [
    "import os\n",
    "import random\n",
    "import glob\n",
    "import shutil\n",
    "os.chdir('C:/Users/Asus/Desktop/Covid_Noncovid/')\n",
    "\n",
    "for i in random.sample(glob.glob('C:/Users/Asus/Desktop/Covid_Noncovid/patchified_covid/*'),180):\n",
    "    shutil.move(i, 'C:/Users/Asus/Desktop/Covid_Noncovid/train/covid')\n",
    "for i in random.sample(glob.glob('C:/Users/Asus/Desktop/Covid_Noncovid/patchified_noncovid/*'),180):\n",
    "    shutil.move(i, 'C:/Users/Asus/Desktop/Covid_Noncovid/train/normal')\n",
    "for i in random.sample(glob.glob('C:/Users/Asus/Desktop/Covid_Noncovid/patchified_covid/*'), 20):\n",
    "    shutil.move(i, 'C:/Users/Asus/Desktop/Covid_Noncovid/valid/covid')\n",
    "for i in random.sample(glob.glob('C:/Users/Asus/Desktop/Covid_Noncovid/patchified_noncovid/*'), 20):\n",
    "    shutil.move(i, 'C:/Users/Asus/Desktop/Covid_Noncovid/valid/normal')\n",
    "for i in random.sample(glob.glob('C:/Users/Asus/Desktop/Covid_Noncovid/patchified_covid/*'), 25):\n",
    "    shutil.move(i, 'C:/Users/Asus/Desktop/Covid_Noncovid/test/covid')\n",
    "for i in random.sample(glob.glob('C:/Users/Asus/Desktop/Covid_Noncovid/patchified_noncovid/*'), 25):\n",
    "    shutil.move(i, 'C:/Users/Asus/Desktop/Covid_Noncovid/test/normal')"
   ]
  },
  {
   "cell_type": "code",
   "execution_count": null,
   "id": "f747486c",
   "metadata": {},
   "outputs": [],
   "source": []
  }
 ],
 "metadata": {
  "kernelspec": {
   "display_name": "Python 3",
   "language": "python",
   "name": "python3"
  },
  "language_info": {
   "codemirror_mode": {
    "name": "ipython",
    "version": 3
   },
   "file_extension": ".py",
   "mimetype": "text/x-python",
   "name": "python",
   "nbconvert_exporter": "python",
   "pygments_lexer": "ipython3",
   "version": "3.8.8"
  }
 },
 "nbformat": 4,
 "nbformat_minor": 5
}
