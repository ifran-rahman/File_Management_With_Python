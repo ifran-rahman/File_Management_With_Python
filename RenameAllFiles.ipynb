{
 "cells": [
  {
   "cell_type": "code",
   "execution_count": 1,
   "id": "056fa034",
   "metadata": {},
   "outputs": [
    {
     "name": "stdout",
     "output_type": "stream",
     "text": [
      "C:\\Users\\Asus\\Desktop\\Original\n",
      "['image - Copy - Copy - Copy (2) - Copy.pdf', 'image - Copy - Copy - Copy (2).pdf', 'image - Copy - Copy - Copy.pdf', 'image - Copy - Copy.pdf', 'image - Copy.pdf', 'image.pdf']\n",
      "image - Copy - Copy - Copy (2) - Copy - x - .pdf\n",
      "image - Copy - Copy - Copy (2) - x - .pdf\n",
      "image - Copy - Copy - Copy - x - .pdf\n",
      "image - Copy - Copy - x - .pdf\n",
      "image - Copy - x - .pdf\n",
      "image - x - .pdf\n"
     ]
    }
   ],
   "source": [
    "#From Geeks for Geeks\n",
    "# Python program to rename all file\n",
    "# names in your directory\n",
    "import os\n",
    " \n",
    "os.chdir('C://Users/Asus/Desktop/Original/')\n",
    "\n",
    "print(os.getcwd())\n",
    "print(os.listdir())\n",
    "\n",
    "for count, f in enumerate(os.listdir()):\n",
    "    f_name, f_ext = os.path.splitext(f)\n",
    "    print(f_name + \" - x - \" + f_ext)\n",
    "    f_name = str(count)\n",
    " \n",
    "    new_name = f'{f_name}{f_ext}'\n",
    "    os.rename(f, new_name)"
   ]
  },
  {
   "cell_type": "code",
   "execution_count": 5,
   "id": "0455d3be",
   "metadata": {},
   "outputs": [
    {
     "data": {
      "text/plain": [
       "list"
      ]
     },
     "execution_count": 5,
     "metadata": {},
     "output_type": "execute_result"
    }
   ],
   "source": [
    "type(os.listdir())"
   ]
  },
  {
   "cell_type": "code",
   "execution_count": null,
   "id": "37ec14da",
   "metadata": {},
   "outputs": [],
   "source": []
  }
 ],
 "metadata": {
  "kernelspec": {
   "display_name": "Python 3",
   "language": "python",
   "name": "python3"
  },
  "language_info": {
   "codemirror_mode": {
    "name": "ipython",
    "version": 3
   },
   "file_extension": ".py",
   "mimetype": "text/x-python",
   "name": "python",
   "nbconvert_exporter": "python",
   "pygments_lexer": "ipython3",
   "version": "3.8.8"
  }
 },
 "nbformat": 4,
 "nbformat_minor": 5
}
