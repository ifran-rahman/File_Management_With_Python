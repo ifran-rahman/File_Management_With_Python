{
 "cells": [
  {
   "cell_type": "code",
   "execution_count": 1,
   "id": "beee32f7",
   "metadata": {},
   "outputs": [],
   "source": [
    "import os\n",
    "import pandas as pd\n",
    "import numpy as np\n",
    "import qgrid "
   ]
  },
  {
   "cell_type": "code",
   "execution_count": 3,
   "id": "b97baab7",
   "metadata": {},
   "outputs": [],
   "source": [
    "fold = 'C:/Users/Asus/Desktop/DatasetForImageGeneration/train/'\n",
    "files = os.listdir(fold)\n",
    "df = pd.DataFrame({'image': files, \n",
    "                    'mask': 1\n",
    "                  }\n",
    "                 )\n",
    "df.to_csv('C:/Users/Asus/Desktop/DatasetForImageGeneration/train/covid_test.csv')"
   ]
  },
  {
   "cell_type": "code",
   "execution_count": 5,
   "id": "5da34dd0",
   "metadata": {},
   "outputs": [],
   "source": [
    "for x in range(10):\n",
    "    x = str(x)\n",
    "    fold = 'E:/DeepLearning/Datasets/BanglaLekha-Isolated_Numbersonly/train/'+x\n",
    "    files = os.listdir(fold)\n",
    "    df = pd.DataFrame({'image': files, \n",
    "                       'mask': int(x)\n",
    "                      }\n",
    "                     )\n",
    "    df.to_csv('E:/DeepLearning/Datasets/BanglaLekha-Isolated_Numbersonly/train/'+x+'/'+x+'.csv')"
   ]
  },
  {
   "cell_type": "code",
   "execution_count": 57,
   "id": "6bca6a7a",
   "metadata": {},
   "outputs": [],
   "source": [
    "\n"
   ]
  }
 ],
 "metadata": {
  "kernelspec": {
   "display_name": "Python 3",
   "language": "python",
   "name": "python3"
  },
  "language_info": {
   "codemirror_mode": {
    "name": "ipython",
    "version": 3
   },
   "file_extension": ".py",
   "mimetype": "text/x-python",
   "name": "python",
   "nbconvert_exporter": "python",
   "pygments_lexer": "ipython3",
   "version": "3.8.8"
  }
 },
 "nbformat": 4,
 "nbformat_minor": 5
}
