{
 "cells": [
  {
   "cell_type": "markdown",
   "id": "829ab58d",
   "metadata": {},
   "source": [
    "/content/drive/Othercomputers/My Laptop /Study/CSE 465/Project/COVID-19-X-ray-Dataset-master/Dataset/Test/"
   ]
  },
  {
   "cell_type": "code",
   "execution_count": 2,
   "id": "5eb727ec",
   "metadata": {},
   "outputs": [
    {
     "name": "stdout",
     "output_type": "stream",
     "text": [
      "Requirement already satisfied: qgrid in c:\\users\\asus\\anaconda3\\lib\\site-packages (1.3.1)\n",
      "Requirement already satisfied: pandas>=0.18.0 in c:\\users\\asus\\anaconda3\\lib\\site-packages (from qgrid) (1.2.4)\n",
      "Requirement already satisfied: notebook>=4.0.0 in c:\\users\\asus\\anaconda3\\lib\\site-packages (from qgrid) (6.3.0)\n",
      "Requirement already satisfied: ipywidgets>=7.0.0 in c:\\users\\asus\\anaconda3\\lib\\site-packages (from qgrid) (7.6.3)\n",
      "Requirement already satisfied: widgetsnbextension~=3.5.0 in c:\\users\\asus\\anaconda3\\lib\\site-packages (from ipywidgets>=7.0.0->qgrid) (3.5.1)\n",
      "Requirement already satisfied: ipykernel>=4.5.1 in c:\\users\\asus\\anaconda3\\lib\\site-packages (from ipywidgets>=7.0.0->qgrid) (5.3.4)\n",
      "Requirement already satisfied: jupyterlab-widgets>=1.0.0 in c:\\users\\asus\\anaconda3\\lib\\site-packages (from ipywidgets>=7.0.0->qgrid) (1.0.0)\n",
      "Requirement already satisfied: traitlets>=4.3.1 in c:\\users\\asus\\anaconda3\\lib\\site-packages (from ipywidgets>=7.0.0->qgrid) (5.0.5)\n",
      "Requirement already satisfied: ipython>=4.0.0 in c:\\users\\asus\\anaconda3\\lib\\site-packages (from ipywidgets>=7.0.0->qgrid) (7.22.0)\n",
      "Requirement already satisfied: nbformat>=4.2.0 in c:\\users\\asus\\anaconda3\\lib\\site-packages (from ipywidgets>=7.0.0->qgrid) (5.1.3)\n",
      "Requirement already satisfied: jupyter-client in c:\\users\\asus\\anaconda3\\lib\\site-packages (from ipykernel>=4.5.1->ipywidgets>=7.0.0->qgrid) (6.1.12)\n",
      "Requirement already satisfied: tornado>=4.2 in c:\\users\\asus\\anaconda3\\lib\\site-packages (from ipykernel>=4.5.1->ipywidgets>=7.0.0->qgrid) (6.1)\n",
      "Requirement already satisfied: backcall in c:\\users\\asus\\anaconda3\\lib\\site-packages (from ipython>=4.0.0->ipywidgets>=7.0.0->qgrid) (0.2.0)\n",
      "Requirement already satisfied: pygments in c:\\users\\asus\\anaconda3\\lib\\site-packages (from ipython>=4.0.0->ipywidgets>=7.0.0->qgrid) (2.8.1)\n",
      "Requirement already satisfied: decorator in c:\\users\\asus\\anaconda3\\lib\\site-packages (from ipython>=4.0.0->ipywidgets>=7.0.0->qgrid) (5.0.6)\n",
      "Requirement already satisfied: jedi>=0.16 in c:\\users\\asus\\anaconda3\\lib\\site-packages (from ipython>=4.0.0->ipywidgets>=7.0.0->qgrid) (0.17.2)\n",
      "Requirement already satisfied: pickleshare in c:\\users\\asus\\anaconda3\\lib\\site-packages (from ipython>=4.0.0->ipywidgets>=7.0.0->qgrid) (0.7.5)\n",
      "Requirement already satisfied: setuptools>=18.5 in c:\\users\\asus\\anaconda3\\lib\\site-packages (from ipython>=4.0.0->ipywidgets>=7.0.0->qgrid) (52.0.0.post20210125)\n",
      "Requirement already satisfied: colorama in c:\\users\\asus\\anaconda3\\lib\\site-packages (from ipython>=4.0.0->ipywidgets>=7.0.0->qgrid) (0.4.4)\n",
      "Requirement already satisfied: prompt-toolkit!=3.0.0,!=3.0.1,<3.1.0,>=2.0.0 in c:\\users\\asus\\anaconda3\\lib\\site-packages (from ipython>=4.0.0->ipywidgets>=7.0.0->qgrid) (3.0.17)\n",
      "Requirement already satisfied: parso<0.8.0,>=0.7.0 in c:\\users\\asus\\anaconda3\\lib\\site-packages (from jedi>=0.16->ipython>=4.0.0->ipywidgets>=7.0.0->qgrid) (0.7.0)\n",
      "Requirement already satisfied: jupyter-core in c:\\users\\asus\\anaconda3\\lib\\site-packages (from nbformat>=4.2.0->ipywidgets>=7.0.0->qgrid) (4.7.1)\n",
      "Requirement already satisfied: ipython-genutils in c:\\users\\asus\\anaconda3\\lib\\site-packages (from nbformat>=4.2.0->ipywidgets>=7.0.0->qgrid) (0.2.0)\n",
      "Requirement already satisfied: jsonschema!=2.5.0,>=2.4 in c:\\users\\asus\\anaconda3\\lib\\site-packages (from nbformat>=4.2.0->ipywidgets>=7.0.0->qgrid) (3.2.0)\n",
      "Requirement already satisfied: pyrsistent>=0.14.0 in c:\\users\\asus\\anaconda3\\lib\\site-packages (from jsonschema!=2.5.0,>=2.4->nbformat>=4.2.0->ipywidgets>=7.0.0->qgrid) (0.17.3)\n",
      "Requirement already satisfied: attrs>=17.4.0 in c:\\users\\asus\\anaconda3\\lib\\site-packages (from jsonschema!=2.5.0,>=2.4->nbformat>=4.2.0->ipywidgets>=7.0.0->qgrid) (20.3.0)\n",
      "Requirement already satisfied: six>=1.11.0 in c:\\users\\asus\\anaconda3\\lib\\site-packages (from jsonschema!=2.5.0,>=2.4->nbformat>=4.2.0->ipywidgets>=7.0.0->qgrid) (1.15.0)\n",
      "Requirement already satisfied: jinja2 in c:\\users\\asus\\anaconda3\\lib\\site-packages (from notebook>=4.0.0->qgrid) (2.11.3)\n",
      "Requirement already satisfied: pyzmq>=17 in c:\\users\\asus\\anaconda3\\lib\\site-packages (from notebook>=4.0.0->qgrid) (20.0.0)\n",
      "Requirement already satisfied: prometheus-client in c:\\users\\asus\\anaconda3\\lib\\site-packages (from notebook>=4.0.0->qgrid) (0.10.1)\n",
      "Requirement already satisfied: argon2-cffi in c:\\users\\asus\\anaconda3\\lib\\site-packages (from notebook>=4.0.0->qgrid) (20.1.0)\n",
      "Requirement already satisfied: terminado>=0.8.3 in c:\\users\\asus\\anaconda3\\lib\\site-packages (from notebook>=4.0.0->qgrid) (0.9.4)\n",
      "Requirement already satisfied: Send2Trash>=1.5.0 in c:\\users\\asus\\anaconda3\\lib\\site-packages (from notebook>=4.0.0->qgrid) (1.5.0)\n",
      "Requirement already satisfied: nbconvert in c:\\users\\asus\\anaconda3\\lib\\site-packages (from notebook>=4.0.0->qgrid) (6.0.7)\n",
      "Requirement already satisfied: python-dateutil>=2.1 in c:\\users\\asus\\anaconda3\\lib\\site-packages (from jupyter-client->ipykernel>=4.5.1->ipywidgets>=7.0.0->qgrid) (2.8.1)\n",
      "Requirement already satisfied: pywin32>=1.0 in c:\\users\\asus\\anaconda3\\lib\\site-packages (from jupyter-core->nbformat>=4.2.0->ipywidgets>=7.0.0->qgrid) (227)\n",
      "Requirement already satisfied: pytz>=2017.3 in c:\\users\\asus\\anaconda3\\lib\\site-packages (from pandas>=0.18.0->qgrid) (2021.1)\n",
      "Requirement already satisfied: numpy>=1.16.5 in c:\\users\\asus\\anaconda3\\lib\\site-packages (from pandas>=0.18.0->qgrid) (1.20.1)\n",
      "Requirement already satisfied: wcwidth in c:\\users\\asus\\anaconda3\\lib\\site-packages (from prompt-toolkit!=3.0.0,!=3.0.1,<3.1.0,>=2.0.0->ipython>=4.0.0->ipywidgets>=7.0.0->qgrid) (0.2.5)\n",
      "Requirement already satisfied: pywinpty>=0.5 in c:\\users\\asus\\anaconda3\\lib\\site-packages (from terminado>=0.8.3->notebook>=4.0.0->qgrid) (0.5.7)\n",
      "Requirement already satisfied: cffi>=1.0.0 in c:\\users\\asus\\anaconda3\\lib\\site-packages (from argon2-cffi->notebook>=4.0.0->qgrid) (1.14.5)\n",
      "Requirement already satisfied: pycparser in c:\\users\\asus\\anaconda3\\lib\\site-packages (from cffi>=1.0.0->argon2-cffi->notebook>=4.0.0->qgrid) (2.20)\n",
      "Requirement already satisfied: MarkupSafe>=0.23 in c:\\users\\asus\\anaconda3\\lib\\site-packages (from jinja2->notebook>=4.0.0->qgrid) (1.1.1)\n",
      "Requirement already satisfied: jupyterlab-pygments in c:\\users\\asus\\anaconda3\\lib\\site-packages (from nbconvert->notebook>=4.0.0->qgrid) (0.1.2)\n",
      "Requirement already satisfied: bleach in c:\\users\\asus\\anaconda3\\lib\\site-packages (from nbconvert->notebook>=4.0.0->qgrid) (3.3.0)\n",
      "Requirement already satisfied: pandocfilters>=1.4.1 in c:\\users\\asus\\anaconda3\\lib\\site-packages (from nbconvert->notebook>=4.0.0->qgrid) (1.4.3)\n",
      "Requirement already satisfied: testpath in c:\\users\\asus\\anaconda3\\lib\\site-packages (from nbconvert->notebook>=4.0.0->qgrid) (0.4.4)\n",
      "Requirement already satisfied: nbclient<0.6.0,>=0.5.0 in c:\\users\\asus\\anaconda3\\lib\\site-packages (from nbconvert->notebook>=4.0.0->qgrid) (0.5.3)\n",
      "Requirement already satisfied: mistune<2,>=0.8.1 in c:\\users\\asus\\anaconda3\\lib\\site-packages (from nbconvert->notebook>=4.0.0->qgrid) (0.8.4)\n",
      "Requirement already satisfied: defusedxml in c:\\users\\asus\\anaconda3\\lib\\site-packages (from nbconvert->notebook>=4.0.0->qgrid) (0.7.1)\n",
      "Requirement already satisfied: entrypoints>=0.2.2 in c:\\users\\asus\\anaconda3\\lib\\site-packages (from nbconvert->notebook>=4.0.0->qgrid) (0.3)\n",
      "Requirement already satisfied: nest-asyncio in c:\\users\\asus\\anaconda3\\lib\\site-packages (from nbclient<0.6.0,>=0.5.0->nbconvert->notebook>=4.0.0->qgrid) (1.5.1)\n",
      "Requirement already satisfied: async-generator in c:\\users\\asus\\anaconda3\\lib\\site-packages (from nbclient<0.6.0,>=0.5.0->nbconvert->notebook>=4.0.0->qgrid) (1.10)\n",
      "Requirement already satisfied: webencodings in c:\\users\\asus\\anaconda3\\lib\\site-packages (from bleach->nbconvert->notebook>=4.0.0->qgrid) (0.5.1)\n",
      "Requirement already satisfied: packaging in c:\\users\\asus\\anaconda3\\lib\\site-packages (from bleach->nbconvert->notebook>=4.0.0->qgrid) (20.9)\n",
      "Requirement already satisfied: pyparsing>=2.0.2 in c:\\users\\asus\\anaconda3\\lib\\site-packages (from packaging->bleach->nbconvert->notebook>=4.0.0->qgrid) (2.4.7)\n",
      "Note: you may need to restart the kernel to use updated packages.\n"
     ]
    }
   ],
   "source": [
    "pip install qgrid\n"
   ]
  },
  {
   "cell_type": "code",
   "execution_count": 3,
   "id": "ee979c4b",
   "metadata": {},
   "outputs": [
    {
     "name": "stderr",
     "output_type": "stream",
     "text": [
      "Enabling notebook extension qgrid/extension...\n",
      "      - Validating: ok\n"
     ]
    }
   ],
   "source": [
    "!jupyter nbextension enable --py qgrid"
   ]
  },
  {
   "cell_type": "code",
   "execution_count": 1,
   "id": "beee32f7",
   "metadata": {},
   "outputs": [],
   "source": [
    "import os\n",
    "import pandas as pd\n",
    "import numpy as np\n",
    "import qgrid "
   ]
  },
  {
   "cell_type": "code",
   "execution_count": 8,
   "id": "b97baab7",
   "metadata": {},
   "outputs": [],
   "source": [
    "fold = 'C:/Users/Asus/Desktop/PatchifiedClassificationSet/test/patchified_covid/'\n",
    "files = os.listdir(fold)\n",
    "df = pd.DataFrame({'image': files, \n",
    "                    'mask': 1\n",
    "                  }\n",
    "                 )\n",
    "df.to_csv('C:/Users/Asus/Desktop/PatchifiedClassificationSet/test/patchified_covid/covid_test.csv')"
   ]
  },
  {
   "cell_type": "code",
   "execution_count": 5,
   "id": "5da34dd0",
   "metadata": {},
   "outputs": [],
   "source": [
    "for x in range(10):\n",
    "    x = str(x)\n",
    "    fold = 'E:/DeepLearning/Datasets/BanglaLekha-Isolated_Numbersonly/train/'+x\n",
    "    files = os.listdir(fold)\n",
    "    df = pd.DataFrame({'image': files, \n",
    "                       'mask': int(x)\n",
    "                      }\n",
    "                     )\n",
    "    df.to_csv('E:/DeepLearning/Datasets/BanglaLekha-Isolated_Numbersonly/train/'+x+'/'+x+'.csv')"
   ]
  },
  {
   "cell_type": "code",
   "execution_count": 57,
   "id": "6bca6a7a",
   "metadata": {},
   "outputs": [],
   "source": [
    "\n"
   ]
  }
 ],
 "metadata": {
  "kernelspec": {
   "display_name": "Python 3",
   "language": "python",
   "name": "python3"
  },
  "language_info": {
   "codemirror_mode": {
    "name": "ipython",
    "version": 3
   },
   "file_extension": ".py",
   "mimetype": "text/x-python",
   "name": "python",
   "nbconvert_exporter": "python",
   "pygments_lexer": "ipython3",
   "version": "3.8.8"
  }
 },
 "nbformat": 4,
 "nbformat_minor": 5
}
