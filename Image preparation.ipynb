{
 "cells": [
  {
   "cell_type": "code",
   "execution_count": null,
   "id": "808ea005",
   "metadata": {},
   "outputs": [],
   "source": [
    "import os\n",
    "import random\n",
    "import glob\n",
    "import shutil\n",
    "os.chdir('E:/DeepLearning/Datasets/COVID-19-X-ray-Dataset-master')\n",
    "if os.path.isdir('train/covid') is False:\n",
    "    os.makedirs('train/covid')\n",
    "    os.makedirs('train/normal')\n",
    "    os.makedirs('valid/covid')\n",
    "    os.makedirs('valid/normal')\n",
    "    os.makedirs('test/covid')\n",
    "    os.makedirs('test/normal')\n",
    "\n",
    "os.chdir('E:/DeepLearning/Datasets/COVID-19-X-ray-Dataset-master')\n",
    "\n",
    "for i in random.sample(glob.glob('E:/DeepLearning/Datasets/COVID-19-X-ray-Dataset-master/COVID_Test*'),219):\n",
    "    shutil.move(i, 'E:/DeepLearning/Datasets/COVID-19-X-ray-Dataset-master/train/covid')\n",
    "for i in random.sample(glob.glob('E:/DeepLearning/Datasets/COVID-19-X-ray-Dataset-master/NORMAL_Test*'),219):\n",
    "    shutil.move(i, 'E:/DeepLearning/Datasets/COVID-19-X-ray-Dataset-master/train/normal')\n",
    "for i in random.sample(glob.glob('E:/DeepLearning/Datasets/COVID-19-X-ray-Dataset-master/COVID_Test*'), 28):\n",
    "    shutil.move(i, 'E:/DeepLearning/Datasets/COVID-19-X-ray-Dataset-master/valid/covid')\n",
    "for i in random.sample(glob.glob('E:/DeepLearning/Datasets/COVID-19-X-ray-Dataset-master/NORMAL_Test*'), 28):\n",
    "    shutil.move(i, 'E:/DeepLearning/Datasets/COVID-19-X-ray-Dataset-master/valid/normal')\n",
    "for i in random.sample(glob.glob('E:/DeepLearning/Datasets/COVID-19-X-ray-Dataset-master/COVID_Test*'), 26):\n",
    "    shutil.move(i, 'E:/DeepLearning/Datasets/COVID-19-X-ray-Dataset-master/test/covid')\n",
    "for i in random.sample(glob.glob('E:/DeepLearning/Datasets/COVID-19-X-ray-Dataset-master/NORMAL_Test*'), 26):\n",
    "    shutil.move(i, 'E:/DeepLearning/Datasets/COVID-19-X-ray-Dataset-master/test/normal')"
   ]
  },
  {
   "cell_type": "code",
   "execution_count": null,
   "id": "3f3680d9",
   "metadata": {},
   "outputs": [],
   "source": [
    "pip install split_folders"
   ]
  },
  {
   "cell_type": "code",
   "execution_count": 1,
   "id": "bb9e83b3",
   "metadata": {},
   "outputs": [],
   "source": [
    "import os\n",
    "import random\n",
    "import glob\n",
    "import shutil\n",
    "os.chdir('C:/Users/Asus/Desktop/Ultimate/')\n",
    "if os.path.isdir('train/Covid') is False:\n",
    "    os.makedirs('train/Covid')\n",
    "    os.makedirs('train/Noncovid')\n",
    "    os.makedirs('test/Covid')\n",
    "    os.makedirs('test/Noncovid')\n",
    "\n",
    "os.chdir('C:/Users/Asus/Desktop/Ultimate/')\n",
    "\n",
    "for i in random.sample(glob.glob('C:/Users/Asus/Desktop/Ultimate/Covid/*'),225):\n",
    "    shutil.move(i, 'C:/Users/Asus/Desktop/Ultimate/train/Covid')\n",
    "    \n",
    "for i in random.sample(glob.glob('C:/Users/Asus/Desktop/Ultimate/Noncovid/*'),225):\n",
    "    shutil.move(i, 'C:/Users/Asus/Desktop/Ultimate/train/Noncovid')\n",
    "    \n",
    "for i in random.sample(glob.glob('C:/Users/Asus/Desktop/Ultimate/Covid/*'), 25):\n",
    "    shutil.move(i, 'C:/Users/Asus/Desktop/Ultimate/test/Covid')\n",
    "    \n",
    "for i in random.sample(glob.glob('C:/Users/Asus/Desktop/Ultimate/Noncovid/*'), 25):\n",
    "    shutil.move(i, 'C:/Users/Asus/Desktop/Ultimate/test/Noncovid')\n",
    "    \n",
    "    \n",
    "    \n",
    "    "
   ]
  },
  {
   "cell_type": "code",
   "execution_count": null,
   "id": "e9b058c2",
   "metadata": {},
   "outputs": [],
   "source": []
  },
  {
   "cell_type": "code",
   "execution_count": null,
   "id": "3953921b",
   "metadata": {},
   "outputs": [],
   "source": []
  },
  {
   "cell_type": "code",
   "execution_count": null,
   "id": "1090e7b3",
   "metadata": {},
   "outputs": [],
   "source": []
  }
 ],
 "metadata": {
  "kernelspec": {
   "display_name": "Python 3",
   "language": "python",
   "name": "python3"
  },
  "language_info": {
   "codemirror_mode": {
    "name": "ipython",
    "version": 3
   },
   "file_extension": ".py",
   "mimetype": "text/x-python",
   "name": "python",
   "nbconvert_exporter": "python",
   "pygments_lexer": "ipython3",
   "version": "3.8.8"
  }
 },
 "nbformat": 4,
 "nbformat_minor": 5
}
