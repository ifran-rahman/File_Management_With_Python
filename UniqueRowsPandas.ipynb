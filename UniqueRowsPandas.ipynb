{
 "cells": [
  {
   "cell_type": "markdown",
   "id": "fa07b89b",
   "metadata": {},
   "source": [
    "### Print unique rows from csv"
   ]
  },
  {
   "cell_type": "code",
   "execution_count": 12,
   "id": "6cc13cfa",
   "metadata": {},
   "outputs": [
    {
     "name": "stdout",
     "output_type": "stream",
     "text": [
      "<class 'numpy.ndarray'>\n"
     ]
    }
   ],
   "source": [
    "\n",
    "import pandas as pd\n",
    "Csv_File = 'C:/Users/Asus/Desktop/465_Dataset/mixed.csv'\n",
    "\n",
    "record = pd.read_csv(Csv_File)\n",
    "\n",
    "print(record['finding'].unique())\n",
    "\n",
    "\n",
    "\n",
    "\n"
   ]
  },
  {
   "cell_type": "code",
   "execution_count": 13,
   "id": "13124492",
   "metadata": {},
   "outputs": [
    {
     "name": "stdout",
     "output_type": "stream",
     "text": [
      "<class 'list'>\n"
     ]
    }
   ],
   "source": [
    "import numpy as np\n",
    "\n",
    "labels = record['finding'].unique().tolist()\n",
    "\n",
    "\n",
    "print(type(labels))"
   ]
  },
  {
   "cell_type": "code",
   "execution_count": null,
   "id": "fa45c2a1",
   "metadata": {},
   "outputs": [],
   "source": []
  }
 ],
 "metadata": {
  "kernelspec": {
   "display_name": "Python 3",
   "language": "python",
   "name": "python3"
  },
  "language_info": {
   "codemirror_mode": {
    "name": "ipython",
    "version": 3
   },
   "file_extension": ".py",
   "mimetype": "text/x-python",
   "name": "python",
   "nbconvert_exporter": "python",
   "pygments_lexer": "ipython3",
   "version": "3.8.8"
  }
 },
 "nbformat": 4,
 "nbformat_minor": 5
}
