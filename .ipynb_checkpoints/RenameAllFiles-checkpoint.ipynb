{
 "cells": [
  {
   "cell_type": "code",
   "execution_count": 1,
   "id": "056fa034",
   "metadata": {},
   "outputs": [
    {
     "name": "stdout",
     "output_type": "stream",
     "text": [
      "C:\\Users\\Asus\\Desktop\\Q1\\Images\\bening\n",
      "['1.jpg', '2.jpg', '3.jpg', '4343.jpg', '55654.jpg']\n",
      "1 - x - .jpg\n",
      "2 - x - .jpg\n",
      "3 - x - .jpg\n",
      "4343 - x - .jpg\n",
      "55654 - x - .jpg\n"
     ]
    }
   ],
   "source": [
    "#From Geeks for Geeks\n",
    "# Python program to rename all file\n",
    "# names in your directory\n",
    "import os\n",
    " \n",
    "os.chdir('C://Users/Asus/Desktop/Q1/Images/bening/')\n",
    "\n",
    "print(os.getcwd())\n",
    "print(os.listdir())\n",
    "\n",
    "for count, f in enumerate(os.listdir()):\n",
    "    f_name, f_ext = os.path.splitext(f)\n",
    "    print(f_name + \" - x - \" + f_ext)\n",
    "    f_name = str(count)\n",
    " \n",
    "    new_name = f'{f_name}{f_ext}'\n",
    "    os.rename(f, new_name)"
   ]
  },
  {
   "cell_type": "code",
   "execution_count": 5,
   "id": "0455d3be",
   "metadata": {},
   "outputs": [
    {
     "data": {
      "text/plain": [
       "list"
      ]
     },
     "execution_count": 5,
     "metadata": {},
     "output_type": "execute_result"
    }
   ],
   "source": [
    "type(os.listdir())"
   ]
  },
  {
   "cell_type": "code",
   "execution_count": null,
   "id": "37ec14da",
   "metadata": {},
   "outputs": [],
   "source": []
  }
 ],
 "metadata": {
  "kernelspec": {
   "display_name": "Python 3",
   "language": "python",
   "name": "python3"
  },
  "language_info": {
   "codemirror_mode": {
    "name": "ipython",
    "version": 3
   },
   "file_extension": ".py",
   "mimetype": "text/x-python",
   "name": "python",
   "nbconvert_exporter": "python",
   "pygments_lexer": "ipython3",
   "version": "3.8.8"
  }
 },
 "nbformat": 4,
 "nbformat_minor": 5
}
